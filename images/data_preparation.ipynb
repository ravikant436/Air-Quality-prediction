{
  "nbformat": 4,
  "nbformat_minor": 0,
  "metadata": {
    "colab": {
      "name": "autoscout24.ipynb",
      "provenance": [],
      "toc_visible": true
    },
    "kernelspec": {
      "name": "python3",
      "display_name": "Python 3"
    }
  },
  "cells": [
    {
      "cell_type": "markdown",
      "metadata": {
        "id": "jxwxFUO8yBc1"
      },
      "source": [
        "# Data Preprocessing"
      ]
    },
    {
      "cell_type": "code",
      "metadata": {
        "id": "RKyJuF9Hxpep"
      },
      "source": [
        "import pandas as pd\r\n",
        "import numpy as np\r\n",
        "import matplotlib.pyplot as plt\r\n",
        "import seaborn as sns"
      ],
      "execution_count": 233,
      "outputs": []
    },
    {
      "cell_type": "markdown",
      "metadata": {
        "id": "_1I4C0pj9t5m"
      },
      "source": [
        "**Reading Data**"
      ]
    },
    {
      "cell_type": "code",
      "metadata": {
        "id": "87GbfYwDyMgL"
      },
      "source": [
        "data = pd.read_csv('/content/drive/MyDrive/Colab Notebooks/Interview_Assignments/autoScout24/case_study_data.csv', delimiter=';')\r\n",
        "data_desc = pd.read_csv('/content/drive/MyDrive/Colab Notebooks/Interview_Assignments/autoScout24/data_description.csv', delimiter=';')"
      ],
      "execution_count": 234,
      "outputs": []
    },
    {
      "cell_type": "code",
      "metadata": {
        "colab": {
          "base_uri": "https://localhost:8080/",
          "height": 266
        },
        "id": "1WkrHnnOzObn",
        "outputId": "03fa174a-0eb9-47b7-9671-e431fed4656a"
      },
      "source": [
        "data.head()"
      ],
      "execution_count": 235,
      "outputs": [
        {
          "output_type": "execute_result",
          "data": {
            "text/html": [
              "<div>\n",
              "<style scoped>\n",
              "    .dataframe tbody tr th:only-of-type {\n",
              "        vertical-align: middle;\n",
              "    }\n",
              "\n",
              "    .dataframe tbody tr th {\n",
              "        vertical-align: top;\n",
              "    }\n",
              "\n",
              "    .dataframe thead th {\n",
              "        text-align: right;\n",
              "    }\n",
              "</style>\n",
              "<table border=\"1\" class=\"dataframe\">\n",
              "  <thead>\n",
              "    <tr style=\"text-align: right;\">\n",
              "      <th></th>\n",
              "      <th>article_id</th>\n",
              "      <th>product_tier</th>\n",
              "      <th>make_name</th>\n",
              "      <th>price</th>\n",
              "      <th>first_zip_digit</th>\n",
              "      <th>first_registration_year</th>\n",
              "      <th>created_date</th>\n",
              "      <th>deleted_date</th>\n",
              "      <th>search_views</th>\n",
              "      <th>detail_views</th>\n",
              "      <th>stock_days</th>\n",
              "      <th>ctr</th>\n",
              "    </tr>\n",
              "  </thead>\n",
              "  <tbody>\n",
              "    <tr>\n",
              "      <th>0</th>\n",
              "      <td>350625839</td>\n",
              "      <td>Basic</td>\n",
              "      <td>Mitsubishi</td>\n",
              "      <td>16750</td>\n",
              "      <td>5</td>\n",
              "      <td>2013</td>\n",
              "      <td>24.07.18</td>\n",
              "      <td>24.08.18</td>\n",
              "      <td>3091.0</td>\n",
              "      <td>123.0</td>\n",
              "      <td>30</td>\n",
              "      <td>0.03780329990294403</td>\n",
              "    </tr>\n",
              "    <tr>\n",
              "      <th>1</th>\n",
              "      <td>354412280</td>\n",
              "      <td>Basic</td>\n",
              "      <td>Mercedes-Benz</td>\n",
              "      <td>35950</td>\n",
              "      <td>4</td>\n",
              "      <td>2015</td>\n",
              "      <td>16.08.18</td>\n",
              "      <td>07.10.18</td>\n",
              "      <td>3283.0</td>\n",
              "      <td>223.0</td>\n",
              "      <td>52</td>\n",
              "      <td>0.06792567773378008</td>\n",
              "    </tr>\n",
              "    <tr>\n",
              "      <th>2</th>\n",
              "      <td>349572992</td>\n",
              "      <td>Basic</td>\n",
              "      <td>Mercedes-Benz</td>\n",
              "      <td>11950</td>\n",
              "      <td>3</td>\n",
              "      <td>1998</td>\n",
              "      <td>16.07.18</td>\n",
              "      <td>05.09.18</td>\n",
              "      <td>3247.0</td>\n",
              "      <td>265.0</td>\n",
              "      <td>51</td>\n",
              "      <td>0.0816137973514013</td>\n",
              "    </tr>\n",
              "    <tr>\n",
              "      <th>3</th>\n",
              "      <td>350266763</td>\n",
              "      <td>Basic</td>\n",
              "      <td>Ford</td>\n",
              "      <td>1750</td>\n",
              "      <td>6</td>\n",
              "      <td>2003</td>\n",
              "      <td>20.07.18</td>\n",
              "      <td>29.10.18</td>\n",
              "      <td>1856.0</td>\n",
              "      <td>26.0</td>\n",
              "      <td>101</td>\n",
              "      <td>0.014008620689655173</td>\n",
              "    </tr>\n",
              "    <tr>\n",
              "      <th>4</th>\n",
              "      <td>355688985</td>\n",
              "      <td>Basic</td>\n",
              "      <td>Mercedes-Benz</td>\n",
              "      <td>26500</td>\n",
              "      <td>3</td>\n",
              "      <td>2014</td>\n",
              "      <td>28.08.18</td>\n",
              "      <td>08.09.18</td>\n",
              "      <td>490.0</td>\n",
              "      <td>20.0</td>\n",
              "      <td>12</td>\n",
              "      <td>0.04081632653061224</td>\n",
              "    </tr>\n",
              "  </tbody>\n",
              "</table>\n",
              "</div>"
            ],
            "text/plain": [
              "   article_id product_tier  ... stock_days                   ctr\n",
              "0   350625839        Basic  ...         30   0.03780329990294403\n",
              "1   354412280        Basic  ...         52   0.06792567773378008\n",
              "2   349572992        Basic  ...         51    0.0816137973514013\n",
              "3   350266763        Basic  ...        101  0.014008620689655173\n",
              "4   355688985        Basic  ...         12   0.04081632653061224\n",
              "\n",
              "[5 rows x 12 columns]"
            ]
          },
          "metadata": {
            "tags": []
          },
          "execution_count": 235
        }
      ]
    },
    {
      "cell_type": "code",
      "metadata": {
        "colab": {
          "base_uri": "https://localhost:8080/"
        },
        "id": "Q1AhGdz9zPhW",
        "outputId": "15d15fa7-5ff1-409c-c929-c5582115f292"
      },
      "source": [
        "data.shape"
      ],
      "execution_count": 236,
      "outputs": [
        {
          "output_type": "execute_result",
          "data": {
            "text/plain": [
              "(78321, 12)"
            ]
          },
          "metadata": {
            "tags": []
          },
          "execution_count": 236
        }
      ]
    },
    {
      "cell_type": "markdown",
      "metadata": {
        "id": "eUsDyePuMblC"
      },
      "source": [
        "#Feature Engineering and Analysis"
      ]
    },
    {
      "cell_type": "markdown",
      "metadata": {
        "id": "UNaIGIGu9-jA"
      },
      "source": [
        "Count plot of Product Tier Categories"
      ]
    },
    {
      "cell_type": "code",
      "metadata": {
        "colab": {
          "base_uri": "https://localhost:8080/",
          "height": 557
        },
        "id": "NmbgzYmrOjOZ",
        "outputId": "d158766b-6178-4377-d7bd-686984384c85"
      },
      "source": [
        "plt.figure(figsize=(9,9))\r\n",
        "sns.set_theme(style=\"darkgrid\")\r\n",
        "ax = sns.countplot(x=\"product_tier\", data=data)"
      ],
      "execution_count": 237,
      "outputs": [
        {
          "output_type": "display_data",
          "data": {
            "image/png": "[encoded data removed]",
            "text/plain": [
              "<Figure size 648x648 with 1 Axes>"
            ]
          },
          "metadata": {
            "tags": []
          }
        }
      ]
    },
    {
      "cell_type": "markdown",
      "metadata": {
        "id": "L680aj1ufdOL"
      },
      "source": [
        "#Handling Missing Values"
      ]
    },
    {
      "cell_type": "code",
      "metadata": {
        "colab": {
          "base_uri": "https://localhost:8080/"
        },
        "id": "Q5TZahpQMgtg",
        "outputId": "7ca9a1ab-723f-4643-824d-7d7704476ae9"
      },
      "source": [
        "data.isna().sum()"
      ],
      "execution_count": 238,
      "outputs": [
        {
          "output_type": "execute_result",
          "data": {
            "text/plain": [
              "article_id                  0\n",
              "product_tier                0\n",
              "make_name                   0\n",
              "price                       0\n",
              "first_zip_digit             0\n",
              "first_registration_year     0\n",
              "created_date                0\n",
              "deleted_date                0\n",
              "search_views               10\n",
              "detail_views               10\n",
              "stock_days                  0\n",
              "ctr                        24\n",
              "dtype: int64"
            ]
          },
          "metadata": {
            "tags": []
          },
          "execution_count": 238
        }
      ]
    },
    {
      "cell_type": "code",
      "metadata": {
        "colab": {
          "base_uri": "https://localhost:8080/"
        },
        "id": "Qxd_aXZLMu7F",
        "outputId": "f667ed36-1f3b-46a4-dc85-88eb3ef72c91"
      },
      "source": [
        "rows_with_na_values = data[data.isnull().any(axis=1)].product_tier.unique()\r\n",
        "rows_with_na_values"
      ],
      "execution_count": 239,
      "outputs": [
        {
          "output_type": "execute_result",
          "data": {
            "text/plain": [
              "array(['Basic'], dtype=object)"
            ]
          },
          "metadata": {
            "tags": []
          },
          "execution_count": 239
        }
      ]
    },
    {
      "cell_type": "markdown",
      "metadata": {
        "id": "LEtzqJDtO-GM"
      },
      "source": [
        "**Very few records have NA values and Also, all rows with NA values have \"Basic\" Product tier category (which is in very high majority in our dataset); so we are goint to drop rows with missing values.**"
      ]
    },
    {
      "cell_type": "code",
      "metadata": {
        "colab": {
          "base_uri": "https://localhost:8080/"
        },
        "id": "yuoZOXX0PeO8",
        "outputId": "a29f8d81-326a-4757-9cb0-cd21dab30681"
      },
      "source": [
        "data = data.dropna()\r\n",
        "data.shape"
      ],
      "execution_count": 240,
      "outputs": [
        {
          "output_type": "execute_result",
          "data": {
            "text/plain": [
              "(78297, 12)"
            ]
          },
          "metadata": {
            "tags": []
          },
          "execution_count": 240
        }
      ]
    },
    {
      "cell_type": "code",
      "metadata": {
        "id": "WaD_15B7xsg-"
      },
      "source": [
        "from sklearn.preprocessing import OneHotEncoder"
      ],
      "execution_count": 241,
      "outputs": []
    },
    {
      "cell_type": "code",
      "metadata": {
        "colab": {
          "base_uri": "https://localhost:8080/",
          "height": 266
        },
        "id": "Tcnys37Qe4pz",
        "outputId": "9bb7e907-b709-468b-f118-41c32b41d7a5"
      },
      "source": [
        "data.head()"
      ],
      "execution_count": 242,
      "outputs": [
        {
          "output_type": "execute_result",
          "data": {
            "text/html": [
              "<div>\n",
              "<style scoped>\n",
              "    .dataframe tbody tr th:only-of-type {\n",
              "        vertical-align: middle;\n",
              "    }\n",
              "\n",
              "    .dataframe tbody tr th {\n",
              "        vertical-align: top;\n",
              "    }\n",
              "\n",
              "    .dataframe thead th {\n",
              "        text-align: right;\n",
              "    }\n",
              "</style>\n",
              "<table border=\"1\" class=\"dataframe\">\n",
              "  <thead>\n",
              "    <tr style=\"text-align: right;\">\n",
              "      <th></th>\n",
              "      <th>article_id</th>\n",
              "      <th>product_tier</th>\n",
              "      <th>make_name</th>\n",
              "      <th>price</th>\n",
              "      <th>first_zip_digit</th>\n",
              "      <th>first_registration_year</th>\n",
              "      <th>created_date</th>\n",
              "      <th>deleted_date</th>\n",
              "      <th>search_views</th>\n",
              "      <th>detail_views</th>\n",
              "      <th>stock_days</th>\n",
              "      <th>ctr</th>\n",
              "    </tr>\n",
              "  </thead>\n",
              "  <tbody>\n",
              "    <tr>\n",
              "      <th>0</th>\n",
              "      <td>350625839</td>\n",
              "      <td>Basic</td>\n",
              "      <td>Mitsubishi</td>\n",
              "      <td>16750</td>\n",
              "      <td>5</td>\n",
              "      <td>2013</td>\n",
              "      <td>24.07.18</td>\n",
              "      <td>24.08.18</td>\n",
              "      <td>3091.0</td>\n",
              "      <td>123.0</td>\n",
              "      <td>30</td>\n",
              "      <td>0.03780329990294403</td>\n",
              "    </tr>\n",
              "    <tr>\n",
              "      <th>1</th>\n",
              "      <td>354412280</td>\n",
              "      <td>Basic</td>\n",
              "      <td>Mercedes-Benz</td>\n",
              "      <td>35950</td>\n",
              "      <td>4</td>\n",
              "      <td>2015</td>\n",
              "      <td>16.08.18</td>\n",
              "      <td>07.10.18</td>\n",
              "      <td>3283.0</td>\n",
              "      <td>223.0</td>\n",
              "      <td>52</td>\n",
              "      <td>0.06792567773378008</td>\n",
              "    </tr>\n",
              "    <tr>\n",
              "      <th>2</th>\n",
              "      <td>349572992</td>\n",
              "      <td>Basic</td>\n",
              "      <td>Mercedes-Benz</td>\n",
              "      <td>11950</td>\n",
              "      <td>3</td>\n",
              "      <td>1998</td>\n",
              "      <td>16.07.18</td>\n",
              "      <td>05.09.18</td>\n",
              "      <td>3247.0</td>\n",
              "      <td>265.0</td>\n",
              "      <td>51</td>\n",
              "      <td>0.0816137973514013</td>\n",
              "    </tr>\n",
              "    <tr>\n",
              "      <th>3</th>\n",
              "      <td>350266763</td>\n",
              "      <td>Basic</td>\n",
              "      <td>Ford</td>\n",
              "      <td>1750</td>\n",
              "      <td>6</td>\n",
              "      <td>2003</td>\n",
              "      <td>20.07.18</td>\n",
              "      <td>29.10.18</td>\n",
              "      <td>1856.0</td>\n",
              "      <td>26.0</td>\n",
              "      <td>101</td>\n",
              "      <td>0.014008620689655173</td>\n",
              "    </tr>\n",
              "    <tr>\n",
              "      <th>4</th>\n",
              "      <td>355688985</td>\n",
              "      <td>Basic</td>\n",
              "      <td>Mercedes-Benz</td>\n",
              "      <td>26500</td>\n",
              "      <td>3</td>\n",
              "      <td>2014</td>\n",
              "      <td>28.08.18</td>\n",
              "      <td>08.09.18</td>\n",
              "      <td>490.0</td>\n",
              "      <td>20.0</td>\n",
              "      <td>12</td>\n",
              "      <td>0.04081632653061224</td>\n",
              "    </tr>\n",
              "  </tbody>\n",
              "</table>\n",
              "</div>"
            ],
            "text/plain": [
              "   article_id product_tier  ... stock_days                   ctr\n",
              "0   350625839        Basic  ...         30   0.03780329990294403\n",
              "1   354412280        Basic  ...         52   0.06792567773378008\n",
              "2   349572992        Basic  ...         51    0.0816137973514013\n",
              "3   350266763        Basic  ...        101  0.014008620689655173\n",
              "4   355688985        Basic  ...         12   0.04081632653061224\n",
              "\n",
              "[5 rows x 12 columns]"
            ]
          },
          "metadata": {
            "tags": []
          },
          "execution_count": 242
        }
      ]
    },
    {
      "cell_type": "markdown",
      "metadata": {
        "id": "0lDW6-lFhbEZ"
      },
      "source": [
        "**Ordinal Label Encoding of Product Tier Feature**\r\n",
        "\r\n",
        "Basic - 0, Premium - 1, Plus - 2"
      ]
    },
    {
      "cell_type": "code",
      "metadata": {
        "colab": {
          "base_uri": "https://localhost:8080/"
        },
        "id": "hVJAD-47f1O_",
        "outputId": "06d045cc-9d1d-4292-fbb7-469d4df49ef2"
      },
      "source": [
        "print(data.product_tier.unique())\r\n",
        "data[\"product_tier\"] = data[\"product_tier\"].replace(\"Basic\", 0).replace(\"Premium\", 1).replace(\"Plus\", 2)\r\n",
        "print(data.product_tier.unique())"
      ],
      "execution_count": 243,
      "outputs": [
        {
          "output_type": "stream",
          "text": [
            "['Basic' 'Premium' 'Plus']\n",
            "[0 1 2]\n"
          ],
          "name": "stdout"
        }
      ]
    },
    {
      "cell_type": "markdown",
      "metadata": {
        "id": "U0cZBLxww2Yj"
      },
      "source": [
        "**one hot encoding of \"first_zip_digit\" feature**\r\n",
        "\r\n",
        "And dropping \"first_zip_digit\" feature"
      ]
    },
    {
      "cell_type": "code",
      "metadata": {
        "colab": {
          "base_uri": "https://localhost:8080/",
          "height": 465
        },
        "id": "AyYx18gdFt6L",
        "outputId": "c03f76d7-3a33-4ea9-989a-b020984a05c5"
      },
      "source": [
        "plt.figure(figsize=(7, 7))\r\n",
        "sns.scatterplot(data=data, x=\"first_zip_digit\", y=\"detail_views\")\r\n",
        "# Set x-axis label\r\n",
        "plt.xlabel('First Zip Digit')\r\n",
        "# Set y-axis label\r\n",
        "plt.ylabel('Detail Views')"
      ],
      "execution_count": 244,
      "outputs": [
        {
          "output_type": "execute_result",
          "data": {
            "text/plain": [
              "Text(0, 0.5, 'Detail Views')"
            ]
          },
          "metadata": {
            "tags": []
          },
          "execution_count": 244
        },
        {
          "output_type": "display_data",
          "data": {
            "image/png": "[encoded data removed]",
            "text/plain": [
              "<Figure size 504x504 with 1 Axes>"
            ]
          },
          "metadata": {
            "tags": []
          }
        }
      ]
    },
    {
      "cell_type": "code",
      "metadata": {
        "id": "iXGtZmcUw1lA"
      },
      "source": [
        "zip_code_dummies = pd.get_dummies(data.first_zip_digit,drop_first=True, prefix='zip_code')\r\n",
        "data = pd.concat([data, zip_code_dummies], axis=1)"
      ],
      "execution_count": 245,
      "outputs": []
    },
    {
      "cell_type": "code",
      "metadata": {
        "id": "-q-o3xuLzP2v"
      },
      "source": [
        "data = data.drop('first_zip_digit', 1)"
      ],
      "execution_count": 246,
      "outputs": []
    },
    {
      "cell_type": "markdown",
      "metadata": {
        "id": "9GonVMjjzn-z"
      },
      "source": [
        "**One hot encoding of \"make_name\" feature**\r\n",
        "\r\n",
        "\"make_name\" has 91 categories, we are going to one hot encode and choose top 10 categories only"
      ]
    },
    {
      "cell_type": "code",
      "metadata": {
        "colab": {
          "base_uri": "https://localhost:8080/"
        },
        "id": "MouuQTHczetX",
        "outputId": "50b296cd-4d62-4fd8-c498-08e97542ce84"
      },
      "source": [
        "data.make_name.value_counts().sort_values(ascending=False).head(10)"
      ],
      "execution_count": 247,
      "outputs": [
        {
          "output_type": "execute_result",
          "data": {
            "text/plain": [
              "Volkswagen       9424\n",
              "Renault          6954\n",
              "Peugeot          5446\n",
              "Opel             5217\n",
              "Ford             5198\n",
              "Mercedes-Benz    4758\n",
              "BMW              4553\n",
              "Volvo            3993\n",
              "Toyota           3924\n",
              "Audi             3311\n",
              "Name: make_name, dtype: int64"
            ]
          },
          "metadata": {
            "tags": []
          },
          "execution_count": 247
        }
      ]
    },
    {
      "cell_type": "code",
      "metadata": {
        "id": "FmomNrcF0TNs"
      },
      "source": [
        "lst_10=data.make_name.value_counts().sort_values(ascending=False).head(10).index\r\n",
        "lst_10=list(lst_10)"
      ],
      "execution_count": 248,
      "outputs": []
    },
    {
      "cell_type": "code",
      "metadata": {
        "id": "92W0QI3l0i7O"
      },
      "source": [
        "for category in lst_10:\r\n",
        "    data[category]=np.where(data['make_name']==category,1,0)"
      ],
      "execution_count": 249,
      "outputs": []
    },
    {
      "cell_type": "code",
      "metadata": {
        "colab": {
          "base_uri": "https://localhost:8080/",
          "height": 282
        },
        "id": "teC-i_bT0qei",
        "outputId": "5680ba3c-bbea-471e-ff05-1695cd56db27"
      },
      "source": [
        "data.head()"
      ],
      "execution_count": 250,
      "outputs": [
        {
          "output_type": "execute_result",
          "data": {
            "text/html": [
              "<div>\n",
              "<style scoped>\n",
              "    .dataframe tbody tr th:only-of-type {\n",
              "        vertical-align: middle;\n",
              "    }\n",
              "\n",
              "    .dataframe tbody tr th {\n",
              "        vertical-align: top;\n",
              "    }\n",
              "\n",
              "    .dataframe thead th {\n",
              "        text-align: right;\n",
              "    }\n",
              "</style>\n",
              "<table border=\"1\" class=\"dataframe\">\n",
              "  <thead>\n",
              "    <tr style=\"text-align: right;\">\n",
              "      <th></th>\n",
              "      <th>article_id</th>\n",
              "      <th>product_tier</th>\n",
              "      <th>make_name</th>\n",
              "      <th>price</th>\n",
              "      <th>first_registration_year</th>\n",
              "      <th>created_date</th>\n",
              "      <th>deleted_date</th>\n",
              "      <th>search_views</th>\n",
              "      <th>detail_views</th>\n",
              "      <th>stock_days</th>\n",
              "      <th>ctr</th>\n",
              "      <th>zip_code_2</th>\n",
              "      <th>zip_code_3</th>\n",
              "      <th>zip_code_4</th>\n",
              "      <th>zip_code_5</th>\n",
              "      <th>zip_code_6</th>\n",
              "      <th>zip_code_7</th>\n",
              "      <th>zip_code_8</th>\n",
              "      <th>zip_code_9</th>\n",
              "      <th>Volkswagen</th>\n",
              "      <th>Renault</th>\n",
              "      <th>Peugeot</th>\n",
              "      <th>Opel</th>\n",
              "      <th>Ford</th>\n",
              "      <th>Mercedes-Benz</th>\n",
              "      <th>BMW</th>\n",
              "      <th>Volvo</th>\n",
              "      <th>Toyota</th>\n",
              "      <th>Audi</th>\n",
              "    </tr>\n",
              "  </thead>\n",
              "  <tbody>\n",
              "    <tr>\n",
              "      <th>0</th>\n",
              "      <td>350625839</td>\n",
              "      <td>0</td>\n",
              "      <td>Mitsubishi</td>\n",
              "      <td>16750</td>\n",
              "      <td>2013</td>\n",
              "      <td>24.07.18</td>\n",
              "      <td>24.08.18</td>\n",
              "      <td>3091.0</td>\n",
              "      <td>123.0</td>\n",
              "      <td>30</td>\n",
              "      <td>0.03780329990294403</td>\n",
              "      <td>0</td>\n",
              "      <td>0</td>\n",
              "      <td>0</td>\n",
              "      <td>1</td>\n",
              "      <td>0</td>\n",
              "      <td>0</td>\n",
              "      <td>0</td>\n",
              "      <td>0</td>\n",
              "      <td>0</td>\n",
              "      <td>0</td>\n",
              "      <td>0</td>\n",
              "      <td>0</td>\n",
              "      <td>0</td>\n",
              "      <td>0</td>\n",
              "      <td>0</td>\n",
              "      <td>0</td>\n",
              "      <td>0</td>\n",
              "      <td>0</td>\n",
              "    </tr>\n",
              "    <tr>\n",
              "      <th>1</th>\n",
              "      <td>354412280</td>\n",
              "      <td>0</td>\n",
              "      <td>Mercedes-Benz</td>\n",
              "      <td>35950</td>\n",
              "      <td>2015</td>\n",
              "      <td>16.08.18</td>\n",
              "      <td>07.10.18</td>\n",
              "      <td>3283.0</td>\n",
              "      <td>223.0</td>\n",
              "      <td>52</td>\n",
              "      <td>0.06792567773378008</td>\n",
              "      <td>0</td>\n",
              "      <td>0</td>\n",
              "      <td>1</td>\n",
              "      <td>0</td>\n",
              "      <td>0</td>\n",
              "      <td>0</td>\n",
              "      <td>0</td>\n",
              "      <td>0</td>\n",
              "      <td>0</td>\n",
              "      <td>0</td>\n",
              "      <td>0</td>\n",
              "      <td>0</td>\n",
              "      <td>0</td>\n",
              "      <td>1</td>\n",
              "      <td>0</td>\n",
              "      <td>0</td>\n",
              "      <td>0</td>\n",
              "      <td>0</td>\n",
              "    </tr>\n",
              "    <tr>\n",
              "      <th>2</th>\n",
              "      <td>349572992</td>\n",
              "      <td>0</td>\n",
              "      <td>Mercedes-Benz</td>\n",
              "      <td>11950</td>\n",
              "      <td>1998</td>\n",
              "      <td>16.07.18</td>\n",
              "      <td>05.09.18</td>\n",
              "      <td>3247.0</td>\n",
              "      <td>265.0</td>\n",
              "      <td>51</td>\n",
              "      <td>0.0816137973514013</td>\n",
              "      <td>0</td>\n",
              "      <td>1</td>\n",
              "      <td>0</td>\n",
              "      <td>0</td>\n",
              "      <td>0</td>\n",
              "      <td>0</td>\n",
              "      <td>0</td>\n",
              "      <td>0</td>\n",
              "      <td>0</td>\n",
              "      <td>0</td>\n",
              "      <td>0</td>\n",
              "      <td>0</td>\n",
              "      <td>0</td>\n",
              "      <td>1</td>\n",
              "      <td>0</td>\n",
              "      <td>0</td>\n",
              "      <td>0</td>\n",
              "      <td>0</td>\n",
              "    </tr>\n",
              "    <tr>\n",
              "      <th>3</th>\n",
              "      <td>350266763</td>\n",
              "      <td>0</td>\n",
              "      <td>Ford</td>\n",
              "      <td>1750</td>\n",
              "      <td>2003</td>\n",
              "      <td>20.07.18</td>\n",
              "      <td>29.10.18</td>\n",
              "      <td>1856.0</td>\n",
              "      <td>26.0</td>\n",
              "      <td>101</td>\n",
              "      <td>0.014008620689655173</td>\n",
              "      <td>0</td>\n",
              "      <td>0</td>\n",
              "      <td>0</td>\n",
              "      <td>0</td>\n",
              "      <td>1</td>\n",
              "      <td>0</td>\n",
              "      <td>0</td>\n",
              "      <td>0</td>\n",
              "      <td>0</td>\n",
              "      <td>0</td>\n",
              "      <td>0</td>\n",
              "      <td>0</td>\n",
              "      <td>1</td>\n",
              "      <td>0</td>\n",
              "      <td>0</td>\n",
              "      <td>0</td>\n",
              "      <td>0</td>\n",
              "      <td>0</td>\n",
              "    </tr>\n",
              "    <tr>\n",
              "      <th>4</th>\n",
              "      <td>355688985</td>\n",
              "      <td>0</td>\n",
              "      <td>Mercedes-Benz</td>\n",
              "      <td>26500</td>\n",
              "      <td>2014</td>\n",
              "      <td>28.08.18</td>\n",
              "      <td>08.09.18</td>\n",
              "      <td>490.0</td>\n",
              "      <td>20.0</td>\n",
              "      <td>12</td>\n",
              "      <td>0.04081632653061224</td>\n",
              "      <td>0</td>\n",
              "      <td>1</td>\n",
              "      <td>0</td>\n",
              "      <td>0</td>\n",
              "      <td>0</td>\n",
              "      <td>0</td>\n",
              "      <td>0</td>\n",
              "      <td>0</td>\n",
              "      <td>0</td>\n",
              "      <td>0</td>\n",
              "      <td>0</td>\n",
              "      <td>0</td>\n",
              "      <td>0</td>\n",
              "      <td>1</td>\n",
              "      <td>0</td>\n",
              "      <td>0</td>\n",
              "      <td>0</td>\n",
              "      <td>0</td>\n",
              "    </tr>\n",
              "  </tbody>\n",
              "</table>\n",
              "</div>"
            ],
            "text/plain": [
              "   article_id  product_tier      make_name  price  ...  BMW Volvo Toyota  Audi\n",
              "0   350625839             0     Mitsubishi  16750  ...    0     0      0     0\n",
              "1   354412280             0  Mercedes-Benz  35950  ...    0     0      0     0\n",
              "2   349572992             0  Mercedes-Benz  11950  ...    0     0      0     0\n",
              "3   350266763             0           Ford   1750  ...    0     0      0     0\n",
              "4   355688985             0  Mercedes-Benz  26500  ...    0     0      0     0\n",
              "\n",
              "[5 rows x 29 columns]"
            ]
          },
          "metadata": {
            "tags": []
          },
          "execution_count": 250
        }
      ]
    },
    {
      "cell_type": "code",
      "metadata": {
        "id": "zm7awD491AEW"
      },
      "source": [
        "# Dropping make_name column\r\n",
        "data = data.drop('make_name', 1)"
      ],
      "execution_count": 251,
      "outputs": []
    },
    {
      "cell_type": "code",
      "metadata": {
        "id": "1AIB_FfMio6Y"
      },
      "source": [
        "# Dropping Article_id \r\n",
        "data = data.drop('article_id', 1)"
      ],
      "execution_count": 252,
      "outputs": []
    },
    {
      "cell_type": "markdown",
      "metadata": {
        "id": "35aE8h4dlHp4"
      },
      "source": [
        "#Handling Date Variables\r\n",
        "\r\n",
        "Converting date value columns to \"DATE\" type and extracting only year"
      ]
    },
    {
      "cell_type": "code",
      "metadata": {
        "id": "JUqbSG3IjOeu"
      },
      "source": [
        "data['created_date'] = data['created_date'].str.replace('.','/')\r\n",
        "\r\n",
        "data[\"created_date\"] = pd.to_datetime(data[\"created_date\"], dayfirst=True).dt.year"
      ],
      "execution_count": 253,
      "outputs": []
    },
    {
      "cell_type": "code",
      "metadata": {
        "id": "ZVr8NHI7m-NI"
      },
      "source": [
        "# Dropping deleted_date as stock_days covers the value between created_date and deleted_date\r\n",
        "data = data.drop('deleted_date', 1)"
      ],
      "execution_count": 254,
      "outputs": []
    },
    {
      "cell_type": "markdown",
      "metadata": {
        "id": "0M-Fv5rLqAXP"
      },
      "source": [
        "**Checking for invalid values in \"registration year\" column**\r\n",
        "\r\n",
        "the invalid value are the one where registration years is after \"created_year\""
      ]
    },
    {
      "cell_type": "code",
      "metadata": {
        "colab": {
          "base_uri": "https://localhost:8080/"
        },
        "id": "FafQDPeOp0O2",
        "outputId": "e7ff7cc5-361f-46fc-e774-fd56d36b771e"
      },
      "source": [
        "temp_df = data[data.first_registration_year > data.created_date]\r\n",
        "temp_df.shape"
      ],
      "execution_count": 255,
      "outputs": [
        {
          "output_type": "execute_result",
          "data": {
            "text/plain": [
              "(74, 26)"
            ]
          },
          "metadata": {
            "tags": []
          },
          "execution_count": 255
        }
      ]
    },
    {
      "cell_type": "code",
      "metadata": {
        "id": "sryvQAq8qTYP"
      },
      "source": [
        "# dropping row with invalid \"registration_year\" value (where registration year > creation date)\r\n",
        "# data.drop(data.index[data['first_registration_year'] > data['created_date']], inplace = True)"
      ],
      "execution_count": 256,
      "outputs": []
    },
    {
      "cell_type": "code",
      "metadata": {
        "id": "ThJamjA4pEha"
      },
      "source": [
        "# Creating new column (article_age), based on difference between create_date and first_registration_year\r\n",
        "data[\"article_age\"] = data[\"created_date\"] - data[\"first_registration_year\"]"
      ],
      "execution_count": 257,
      "outputs": []
    },
    {
      "cell_type": "code",
      "metadata": {
        "colab": {
          "base_uri": "https://localhost:8080/"
        },
        "id": "dVEB5kITBID9",
        "outputId": "d5dfab9c-ae21-4669-ac93-241040ac98df"
      },
      "source": [
        "data[\"article_age\"].min()"
      ],
      "execution_count": 258,
      "outputs": [
        {
          "output_type": "execute_result",
          "data": {
            "text/plain": [
              "-88"
            ]
          },
          "metadata": {
            "tags": []
          },
          "execution_count": 258
        }
      ]
    },
    {
      "cell_type": "markdown",
      "metadata": {
        "id": "ArwPT0DcBcjG"
      },
      "source": [
        "**Replace all \"article_age\" values which are less than 0 with mean \"article_age\"**"
      ]
    },
    {
      "cell_type": "code",
      "metadata": {
        "id": "ngSs8n9_BDlZ"
      },
      "source": [
        "data.article_age=data.article_age.where(data.article_age.between(0,data[\"article_age\"].max()))\r\n",
        "data['article_age'].fillna((data['article_age'].mean()), inplace=True)"
      ],
      "execution_count": 259,
      "outputs": []
    },
    {
      "cell_type": "code",
      "metadata": {
        "colab": {
          "base_uri": "https://localhost:8080/",
          "height": 357
        },
        "id": "LOZvlRW9BymU",
        "outputId": "decdf3b0-e3bd-402e-cc04-15846c70b6aa"
      },
      "source": [
        "sns.distplot(data.article_age)"
      ],
      "execution_count": 260,
      "outputs": [
        {
          "output_type": "stream",
          "text": [
            "/usr/local/lib/python3.6/dist-packages/seaborn/distributions.py:2557: FutureWarning: `distplot` is a deprecated function and will be removed in a future version. Please adapt your code to use either `displot` (a figure-level function with similar flexibility) or `histplot` (an axes-level function for histograms).\n",
            "  warnings.warn(msg, FutureWarning)\n"
          ],
          "name": "stderr"
        },
        {
          "output_type": "execute_result",
          "data": {
            "text/plain": [
              "<matplotlib.axes._subplots.AxesSubplot at 0x7fee5d6210f0>"
            ]
          },
          "metadata": {
            "tags": []
          },
          "execution_count": 260
        },
        {
          "output_type": "display_data",
          "data": {
            "image/png": "[encoded data removed]",
            "text/plain": [
              "<Figure size 432x288 with 1 Axes>"
            ]
          },
          "metadata": {
            "tags": []
          }
        }
      ]
    },
    {
      "cell_type": "markdown",
      "metadata": {
        "id": "YBqopUlUCERt"
      },
      "source": [
        "**Capping of outliers in article _age**"
      ]
    },
    {
      "cell_type": "code",
      "metadata": {
        "colab": {
          "base_uri": "https://localhost:8080/"
        },
        "id": "nrMhtEo2CwiG",
        "outputId": "0c3b1b3a-aa19-4684-e0f9-ebacb9899391"
      },
      "source": [
        "print(\"Max Age \", max(data.article_age))"
      ],
      "execution_count": 261,
      "outputs": [
        {
          "output_type": "stream",
          "text": [
            "Max Age  94.0\n"
          ],
          "name": "stdout"
        }
      ]
    },
    {
      "cell_type": "code",
      "metadata": {
        "colab": {
          "base_uri": "https://localhost:8080/"
        },
        "id": "n90ntVJ6CC_m",
        "outputId": "915132c6-1cb9-44fd-c3f6-2b8587f4516d"
      },
      "source": [
        "age_IQR=data.article_age.quantile(0.75)-data.article_age.quantile(0.25)\r\n",
        "\r\n",
        "age_upper_bridge=data['article_age'].quantile(0.75)+(age_IQR*2)\r\n",
        "print(age_upper_bridge)"
      ],
      "execution_count": 262,
      "outputs": [
        {
          "output_type": "stream",
          "text": [
            "24.0\n"
          ],
          "name": "stdout"
        }
      ]
    },
    {
      "cell_type": "code",
      "metadata": {
        "id": "1c_P3bNsC1dA"
      },
      "source": [
        "# Capping values to 24\r\n",
        "data.loc[data['article_age'] > 24, 'article_age'] = 24"
      ],
      "execution_count": 263,
      "outputs": []
    },
    {
      "cell_type": "code",
      "metadata": {
        "id": "Xek_R40M1BqN"
      },
      "source": [
        "# Dropping first_registration_year column\r\n",
        "data = data.drop('first_registration_year', 1)"
      ],
      "execution_count": 264,
      "outputs": []
    },
    {
      "cell_type": "code",
      "metadata": {
        "colab": {
          "base_uri": "https://localhost:8080/"
        },
        "id": "AJuJvljCDY_E",
        "outputId": "a629d0d4-3538-4782-f356-62f0d7719a0e"
      },
      "source": [
        "data.created_date.unique()"
      ],
      "execution_count": 265,
      "outputs": [
        {
          "output_type": "execute_result",
          "data": {
            "text/plain": [
              "array([2018])"
            ]
          },
          "metadata": {
            "tags": []
          },
          "execution_count": 265
        }
      ]
    },
    {
      "cell_type": "code",
      "metadata": {
        "id": "bfUYzGc8uss8"
      },
      "source": [
        "# there is only one value for created_date year, so we are dropping \"created_date\" column\r\n",
        "data = data.drop('created_date', 1)"
      ],
      "execution_count": 266,
      "outputs": []
    },
    {
      "cell_type": "code",
      "metadata": {
        "colab": {
          "base_uri": "https://localhost:8080/",
          "height": 232
        },
        "id": "UcqZkK-rD7Gl",
        "outputId": "4426c46d-419e-4010-fb58-51b9340597ab"
      },
      "source": [
        "data.head()"
      ],
      "execution_count": 267,
      "outputs": [
        {
          "output_type": "execute_result",
          "data": {
            "text/html": [
              "<div>\n",
              "<style scoped>\n",
              "    .dataframe tbody tr th:only-of-type {\n",
              "        vertical-align: middle;\n",
              "    }\n",
              "\n",
              "    .dataframe tbody tr th {\n",
              "        vertical-align: top;\n",
              "    }\n",
              "\n",
              "    .dataframe thead th {\n",
              "        text-align: right;\n",
              "    }\n",
              "</style>\n",
              "<table border=\"1\" class=\"dataframe\">\n",
              "  <thead>\n",
              "    <tr style=\"text-align: right;\">\n",
              "      <th></th>\n",
              "      <th>product_tier</th>\n",
              "      <th>price</th>\n",
              "      <th>search_views</th>\n",
              "      <th>detail_views</th>\n",
              "      <th>stock_days</th>\n",
              "      <th>ctr</th>\n",
              "      <th>zip_code_2</th>\n",
              "      <th>zip_code_3</th>\n",
              "      <th>zip_code_4</th>\n",
              "      <th>zip_code_5</th>\n",
              "      <th>zip_code_6</th>\n",
              "      <th>zip_code_7</th>\n",
              "      <th>zip_code_8</th>\n",
              "      <th>zip_code_9</th>\n",
              "      <th>Volkswagen</th>\n",
              "      <th>Renault</th>\n",
              "      <th>Peugeot</th>\n",
              "      <th>Opel</th>\n",
              "      <th>Ford</th>\n",
              "      <th>Mercedes-Benz</th>\n",
              "      <th>BMW</th>\n",
              "      <th>Volvo</th>\n",
              "      <th>Toyota</th>\n",
              "      <th>Audi</th>\n",
              "      <th>article_age</th>\n",
              "    </tr>\n",
              "  </thead>\n",
              "  <tbody>\n",
              "    <tr>\n",
              "      <th>0</th>\n",
              "      <td>0</td>\n",
              "      <td>16750</td>\n",
              "      <td>3091.0</td>\n",
              "      <td>123.0</td>\n",
              "      <td>30</td>\n",
              "      <td>0.03780329990294403</td>\n",
              "      <td>0</td>\n",
              "      <td>0</td>\n",
              "      <td>0</td>\n",
              "      <td>1</td>\n",
              "      <td>0</td>\n",
              "      <td>0</td>\n",
              "      <td>0</td>\n",
              "      <td>0</td>\n",
              "      <td>0</td>\n",
              "      <td>0</td>\n",
              "      <td>0</td>\n",
              "      <td>0</td>\n",
              "      <td>0</td>\n",
              "      <td>0</td>\n",
              "      <td>0</td>\n",
              "      <td>0</td>\n",
              "      <td>0</td>\n",
              "      <td>0</td>\n",
              "      <td>5.0</td>\n",
              "    </tr>\n",
              "    <tr>\n",
              "      <th>1</th>\n",
              "      <td>0</td>\n",
              "      <td>35950</td>\n",
              "      <td>3283.0</td>\n",
              "      <td>223.0</td>\n",
              "      <td>52</td>\n",
              "      <td>0.06792567773378008</td>\n",
              "      <td>0</td>\n",
              "      <td>0</td>\n",
              "      <td>1</td>\n",
              "      <td>0</td>\n",
              "      <td>0</td>\n",
              "      <td>0</td>\n",
              "      <td>0</td>\n",
              "      <td>0</td>\n",
              "      <td>0</td>\n",
              "      <td>0</td>\n",
              "      <td>0</td>\n",
              "      <td>0</td>\n",
              "      <td>0</td>\n",
              "      <td>1</td>\n",
              "      <td>0</td>\n",
              "      <td>0</td>\n",
              "      <td>0</td>\n",
              "      <td>0</td>\n",
              "      <td>3.0</td>\n",
              "    </tr>\n",
              "    <tr>\n",
              "      <th>2</th>\n",
              "      <td>0</td>\n",
              "      <td>11950</td>\n",
              "      <td>3247.0</td>\n",
              "      <td>265.0</td>\n",
              "      <td>51</td>\n",
              "      <td>0.0816137973514013</td>\n",
              "      <td>0</td>\n",
              "      <td>1</td>\n",
              "      <td>0</td>\n",
              "      <td>0</td>\n",
              "      <td>0</td>\n",
              "      <td>0</td>\n",
              "      <td>0</td>\n",
              "      <td>0</td>\n",
              "      <td>0</td>\n",
              "      <td>0</td>\n",
              "      <td>0</td>\n",
              "      <td>0</td>\n",
              "      <td>0</td>\n",
              "      <td>1</td>\n",
              "      <td>0</td>\n",
              "      <td>0</td>\n",
              "      <td>0</td>\n",
              "      <td>0</td>\n",
              "      <td>20.0</td>\n",
              "    </tr>\n",
              "    <tr>\n",
              "      <th>3</th>\n",
              "      <td>0</td>\n",
              "      <td>1750</td>\n",
              "      <td>1856.0</td>\n",
              "      <td>26.0</td>\n",
              "      <td>101</td>\n",
              "      <td>0.014008620689655173</td>\n",
              "      <td>0</td>\n",
              "      <td>0</td>\n",
              "      <td>0</td>\n",
              "      <td>0</td>\n",
              "      <td>1</td>\n",
              "      <td>0</td>\n",
              "      <td>0</td>\n",
              "      <td>0</td>\n",
              "      <td>0</td>\n",
              "      <td>0</td>\n",
              "      <td>0</td>\n",
              "      <td>0</td>\n",
              "      <td>1</td>\n",
              "      <td>0</td>\n",
              "      <td>0</td>\n",
              "      <td>0</td>\n",
              "      <td>0</td>\n",
              "      <td>0</td>\n",
              "      <td>15.0</td>\n",
              "    </tr>\n",
              "    <tr>\n",
              "      <th>4</th>\n",
              "      <td>0</td>\n",
              "      <td>26500</td>\n",
              "      <td>490.0</td>\n",
              "      <td>20.0</td>\n",
              "      <td>12</td>\n",
              "      <td>0.04081632653061224</td>\n",
              "      <td>0</td>\n",
              "      <td>1</td>\n",
              "      <td>0</td>\n",
              "      <td>0</td>\n",
              "      <td>0</td>\n",
              "      <td>0</td>\n",
              "      <td>0</td>\n",
              "      <td>0</td>\n",
              "      <td>0</td>\n",
              "      <td>0</td>\n",
              "      <td>0</td>\n",
              "      <td>0</td>\n",
              "      <td>0</td>\n",
              "      <td>1</td>\n",
              "      <td>0</td>\n",
              "      <td>0</td>\n",
              "      <td>0</td>\n",
              "      <td>0</td>\n",
              "      <td>4.0</td>\n",
              "    </tr>\n",
              "  </tbody>\n",
              "</table>\n",
              "</div>"
            ],
            "text/plain": [
              "   product_tier  price  search_views  ...  Toyota  Audi article_age\n",
              "0             0  16750        3091.0  ...       0     0         5.0\n",
              "1             0  35950        3283.0  ...       0     0         3.0\n",
              "2             0  11950        3247.0  ...       0     0        20.0\n",
              "3             0   1750        1856.0  ...       0     0        15.0\n",
              "4             0  26500         490.0  ...       0     0         4.0\n",
              "\n",
              "[5 rows x 25 columns]"
            ]
          },
          "metadata": {
            "tags": []
          },
          "execution_count": 267
        }
      ]
    },
    {
      "cell_type": "markdown",
      "metadata": {
        "id": "c4U9w9tc5LoL"
      },
      "source": [
        "**Convert \"ctr\" to float**\r\n",
        "\r\n",
        "Ctr has invalid values, we replace all non-number values with 0 "
      ]
    },
    {
      "cell_type": "code",
      "metadata": {
        "id": "X5UFCyc58vBh"
      },
      "source": [
        "data[\"ctr\"] = pd.to_numeric(data.ctr.astype(str).str.replace(',',''), errors='coerce').astype(float)"
      ],
      "execution_count": 268,
      "outputs": []
    },
    {
      "cell_type": "markdown",
      "metadata": {
        "id": "84ucmunz26ic"
      },
      "source": [
        "checking for outliers in **ctr** column"
      ]
    },
    {
      "cell_type": "code",
      "metadata": {
        "colab": {
          "base_uri": "https://localhost:8080/",
          "height": 285
        },
        "id": "pgVCzEDq2BzW",
        "outputId": "da37ea83-3ec9-4257-fed2-e5a13e2e4d3c"
      },
      "source": [
        "data.boxplot(column=\"ctr\")"
      ],
      "execution_count": 269,
      "outputs": [
        {
          "output_type": "execute_result",
          "data": {
            "text/plain": [
              "<matplotlib.axes._subplots.AxesSubplot at 0x7fee5d610a58>"
            ]
          },
          "metadata": {
            "tags": []
          },
          "execution_count": 269
        },
        {
          "output_type": "display_data",
          "data": {
            "image/png": "[encoded data removed]",
            "text/plain": [
              "<Figure size 432x288 with 1 Axes>"
            ]
          },
          "metadata": {
            "tags": []
          }
        }
      ]
    },
    {
      "cell_type": "code",
      "metadata": {
        "colab": {
          "base_uri": "https://localhost:8080/"
        },
        "id": "_IY_aaid3zzG",
        "outputId": "97f3a391-dc20-4799-c608-3a3ea1522497"
      },
      "source": [
        "#### Lets compute the Interquantile range to calculate the boundaries\r\n",
        "IQR=data.ctr.quantile(0.75)-data.ctr.quantile(0.25)\r\n",
        "\r\n",
        "upper_bridge=data['ctr'].quantile(0.75)+(IQR*3)\r\n",
        "print(upper_bridge)"
      ],
      "execution_count": 270,
      "outputs": [
        {
          "output_type": "stream",
          "text": [
            "0.16052162410858062\n"
          ],
          "name": "stdout"
        }
      ]
    },
    {
      "cell_type": "code",
      "metadata": {
        "colab": {
          "base_uri": "https://localhost:8080/"
        },
        "id": "U-pE7hzwETAp",
        "outputId": "10a61e20-9c0f-478c-c928-7ab4d1001b17"
      },
      "source": [
        "data.ctr.max()"
      ],
      "execution_count": 271,
      "outputs": [
        {
          "output_type": "execute_result",
          "data": {
            "text/plain": [
              "87.5"
            ]
          },
          "metadata": {
            "tags": []
          },
          "execution_count": 271
        }
      ]
    },
    {
      "cell_type": "code",
      "metadata": {
        "id": "4Zf3dcCw4oIW"
      },
      "source": [
        "# Set ctr = 0.17 for all records with ctr > .17\r\n",
        "data.loc[data['ctr'] > .17, 'ctr'] = .17"
      ],
      "execution_count": 272,
      "outputs": []
    },
    {
      "cell_type": "code",
      "metadata": {
        "id": "oT4rdWdF6sI_"
      },
      "source": [
        "#Replace missing values in ctr with the mean\r\n",
        "data['ctr'].fillna((data['ctr'].mean()), inplace=True)"
      ],
      "execution_count": 273,
      "outputs": []
    },
    {
      "cell_type": "code",
      "metadata": {
        "colab": {
          "base_uri": "https://localhost:8080/",
          "height": 355
        },
        "id": "mXze4RPP5guU",
        "outputId": "52a8ef8c-eaed-464d-acde-60d47e73cd1a"
      },
      "source": [
        "sns.distplot(data.ctr)"
      ],
      "execution_count": 274,
      "outputs": [
        {
          "output_type": "stream",
          "text": [
            "/usr/local/lib/python3.6/dist-packages/seaborn/distributions.py:2557: FutureWarning: `distplot` is a deprecated function and will be removed in a future version. Please adapt your code to use either `displot` (a figure-level function with similar flexibility) or `histplot` (an axes-level function for histograms).\n",
            "  warnings.warn(msg, FutureWarning)\n"
          ],
          "name": "stderr"
        },
        {
          "output_type": "execute_result",
          "data": {
            "text/plain": [
              "<matplotlib.axes._subplots.AxesSubplot at 0x7fee5d5d27b8>"
            ]
          },
          "metadata": {
            "tags": []
          },
          "execution_count": 274
        },
        {
          "output_type": "display_data",
          "data": {
            "image/png": "[encoded data removed]",
            "text/plain": [
              "<Figure size 432x288 with 1 Axes>"
            ]
          },
          "metadata": {
            "tags": []
          }
        }
      ]
    },
    {
      "cell_type": "code",
      "metadata": {
        "colab": {
          "base_uri": "https://localhost:8080/",
          "height": 232
        },
        "id": "4M3eO7EM67VP",
        "outputId": "3173cffe-ed3d-48b1-f2e2-29fb21865ee6"
      },
      "source": [
        "data.head()"
      ],
      "execution_count": 275,
      "outputs": [
        {
          "output_type": "execute_result",
          "data": {
            "text/html": [
              "<div>\n",
              "<style scoped>\n",
              "    .dataframe tbody tr th:only-of-type {\n",
              "        vertical-align: middle;\n",
              "    }\n",
              "\n",
              "    .dataframe tbody tr th {\n",
              "        vertical-align: top;\n",
              "    }\n",
              "\n",
              "    .dataframe thead th {\n",
              "        text-align: right;\n",
              "    }\n",
              "</style>\n",
              "<table border=\"1\" class=\"dataframe\">\n",
              "  <thead>\n",
              "    <tr style=\"text-align: right;\">\n",
              "      <th></th>\n",
              "      <th>product_tier</th>\n",
              "      <th>price</th>\n",
              "      <th>search_views</th>\n",
              "      <th>detail_views</th>\n",
              "      <th>stock_days</th>\n",
              "      <th>ctr</th>\n",
              "      <th>zip_code_2</th>\n",
              "      <th>zip_code_3</th>\n",
              "      <th>zip_code_4</th>\n",
              "      <th>zip_code_5</th>\n",
              "      <th>zip_code_6</th>\n",
              "      <th>zip_code_7</th>\n",
              "      <th>zip_code_8</th>\n",
              "      <th>zip_code_9</th>\n",
              "      <th>Volkswagen</th>\n",
              "      <th>Renault</th>\n",
              "      <th>Peugeot</th>\n",
              "      <th>Opel</th>\n",
              "      <th>Ford</th>\n",
              "      <th>Mercedes-Benz</th>\n",
              "      <th>BMW</th>\n",
              "      <th>Volvo</th>\n",
              "      <th>Toyota</th>\n",
              "      <th>Audi</th>\n",
              "      <th>article_age</th>\n",
              "    </tr>\n",
              "  </thead>\n",
              "  <tbody>\n",
              "    <tr>\n",
              "      <th>0</th>\n",
              "      <td>0</td>\n",
              "      <td>16750</td>\n",
              "      <td>3091.0</td>\n",
              "      <td>123.0</td>\n",
              "      <td>30</td>\n",
              "      <td>0.037803</td>\n",
              "      <td>0</td>\n",
              "      <td>0</td>\n",
              "      <td>0</td>\n",
              "      <td>1</td>\n",
              "      <td>0</td>\n",
              "      <td>0</td>\n",
              "      <td>0</td>\n",
              "      <td>0</td>\n",
              "      <td>0</td>\n",
              "      <td>0</td>\n",
              "      <td>0</td>\n",
              "      <td>0</td>\n",
              "      <td>0</td>\n",
              "      <td>0</td>\n",
              "      <td>0</td>\n",
              "      <td>0</td>\n",
              "      <td>0</td>\n",
              "      <td>0</td>\n",
              "      <td>5.0</td>\n",
              "    </tr>\n",
              "    <tr>\n",
              "      <th>1</th>\n",
              "      <td>0</td>\n",
              "      <td>35950</td>\n",
              "      <td>3283.0</td>\n",
              "      <td>223.0</td>\n",
              "      <td>52</td>\n",
              "      <td>0.067926</td>\n",
              "      <td>0</td>\n",
              "      <td>0</td>\n",
              "      <td>1</td>\n",
              "      <td>0</td>\n",
              "      <td>0</td>\n",
              "      <td>0</td>\n",
              "      <td>0</td>\n",
              "      <td>0</td>\n",
              "      <td>0</td>\n",
              "      <td>0</td>\n",
              "      <td>0</td>\n",
              "      <td>0</td>\n",
              "      <td>0</td>\n",
              "      <td>1</td>\n",
              "      <td>0</td>\n",
              "      <td>0</td>\n",
              "      <td>0</td>\n",
              "      <td>0</td>\n",
              "      <td>3.0</td>\n",
              "    </tr>\n",
              "    <tr>\n",
              "      <th>2</th>\n",
              "      <td>0</td>\n",
              "      <td>11950</td>\n",
              "      <td>3247.0</td>\n",
              "      <td>265.0</td>\n",
              "      <td>51</td>\n",
              "      <td>0.081614</td>\n",
              "      <td>0</td>\n",
              "      <td>1</td>\n",
              "      <td>0</td>\n",
              "      <td>0</td>\n",
              "      <td>0</td>\n",
              "      <td>0</td>\n",
              "      <td>0</td>\n",
              "      <td>0</td>\n",
              "      <td>0</td>\n",
              "      <td>0</td>\n",
              "      <td>0</td>\n",
              "      <td>0</td>\n",
              "      <td>0</td>\n",
              "      <td>1</td>\n",
              "      <td>0</td>\n",
              "      <td>0</td>\n",
              "      <td>0</td>\n",
              "      <td>0</td>\n",
              "      <td>20.0</td>\n",
              "    </tr>\n",
              "    <tr>\n",
              "      <th>3</th>\n",
              "      <td>0</td>\n",
              "      <td>1750</td>\n",
              "      <td>1856.0</td>\n",
              "      <td>26.0</td>\n",
              "      <td>101</td>\n",
              "      <td>0.014009</td>\n",
              "      <td>0</td>\n",
              "      <td>0</td>\n",
              "      <td>0</td>\n",
              "      <td>0</td>\n",
              "      <td>1</td>\n",
              "      <td>0</td>\n",
              "      <td>0</td>\n",
              "      <td>0</td>\n",
              "      <td>0</td>\n",
              "      <td>0</td>\n",
              "      <td>0</td>\n",
              "      <td>0</td>\n",
              "      <td>1</td>\n",
              "      <td>0</td>\n",
              "      <td>0</td>\n",
              "      <td>0</td>\n",
              "      <td>0</td>\n",
              "      <td>0</td>\n",
              "      <td>15.0</td>\n",
              "    </tr>\n",
              "    <tr>\n",
              "      <th>4</th>\n",
              "      <td>0</td>\n",
              "      <td>26500</td>\n",
              "      <td>490.0</td>\n",
              "      <td>20.0</td>\n",
              "      <td>12</td>\n",
              "      <td>0.040816</td>\n",
              "      <td>0</td>\n",
              "      <td>1</td>\n",
              "      <td>0</td>\n",
              "      <td>0</td>\n",
              "      <td>0</td>\n",
              "      <td>0</td>\n",
              "      <td>0</td>\n",
              "      <td>0</td>\n",
              "      <td>0</td>\n",
              "      <td>0</td>\n",
              "      <td>0</td>\n",
              "      <td>0</td>\n",
              "      <td>0</td>\n",
              "      <td>1</td>\n",
              "      <td>0</td>\n",
              "      <td>0</td>\n",
              "      <td>0</td>\n",
              "      <td>0</td>\n",
              "      <td>4.0</td>\n",
              "    </tr>\n",
              "  </tbody>\n",
              "</table>\n",
              "</div>"
            ],
            "text/plain": [
              "   product_tier  price  search_views  ...  Toyota  Audi  article_age\n",
              "0             0  16750        3091.0  ...       0     0          5.0\n",
              "1             0  35950        3283.0  ...       0     0          3.0\n",
              "2             0  11950        3247.0  ...       0     0         20.0\n",
              "3             0   1750        1856.0  ...       0     0         15.0\n",
              "4             0  26500         490.0  ...       0     0          4.0\n",
              "\n",
              "[5 rows x 25 columns]"
            ]
          },
          "metadata": {
            "tags": []
          },
          "execution_count": 275
        }
      ]
    },
    {
      "cell_type": "markdown",
      "metadata": {
        "id": "H9GChD-27KkE"
      },
      "source": [
        "**Normalize the values of price columns**"
      ]
    },
    {
      "cell_type": "code",
      "metadata": {
        "id": "aNUW4omR7OEQ"
      },
      "source": [
        "data['price'] = data['price'] /data['price'].abs().max() "
      ],
      "execution_count": 276,
      "outputs": []
    },
    {
      "cell_type": "markdown",
      "metadata": {
        "id": "QVeRRlQyEdpp"
      },
      "source": [
        "#Exporting processed data to new CSV file"
      ]
    },
    {
      "cell_type": "code",
      "metadata": {
        "id": "fn-mD0IQX_GV"
      },
      "source": [
        "data.to_csv('/content/drive/MyDrive/Colab Notebooks/Interview_Assignments/autoScout24/processed_data.csv', index=False)"
      ],
      "execution_count": 277,
      "outputs": []
    },
    {
      "cell_type": "markdown",
      "metadata": {
        "id": "IRCavA-Ku2tR"
      },
      "source": [
        "# Analysis"
      ]
    },
    {
      "cell_type": "code",
      "metadata": {
        "colab": {
          "base_uri": "https://localhost:8080/",
          "height": 465
        },
        "id": "kguqHw_pTD_r",
        "outputId": "bcde942b-e599-443a-cdcc-683d0445ef4b"
      },
      "source": [
        "plt.figure(figsize=(8, 7))\r\n",
        "sns.scatterplot(data=data, x=\"search_views\", y=\"detail_views\")\r\n",
        "# Set x-axis label\r\n",
        "plt.xlabel('Search Views')\r\n",
        "# Set y-axis label\r\n",
        "plt.ylabel('Detail Views')"
      ],
      "execution_count": 278,
      "outputs": [
        {
          "output_type": "execute_result",
          "data": {
            "text/plain": [
              "Text(0, 0.5, 'Detail Views')"
            ]
          },
          "metadata": {
            "tags": []
          },
          "execution_count": 278
        },
        {
          "output_type": "display_data",
          "data": {
            "image/png": "[encoded data removed]",
            "text/plain": [
              "<Figure size 576x504 with 1 Axes>"
            ]
          },
          "metadata": {
            "tags": []
          }
        }
      ]
    },
    {
      "cell_type": "code",
      "metadata": {
        "colab": {
          "base_uri": "https://localhost:8080/",
          "height": 465
        },
        "id": "rYHCoZPlu7AX",
        "outputId": "0fc03afa-a2e0-4637-8eaf-bbef985f8815"
      },
      "source": [
        "plt.figure(figsize=(8, 7))\r\n",
        "sns.scatterplot(data=data, x=\"article_age\", y=\"detail_views\")\r\n",
        "# Set x-axis label\r\n",
        "plt.xlabel('Article Age')\r\n",
        "# Set y-axis label\r\n",
        "plt.ylabel('Detail Views')"
      ],
      "execution_count": 279,
      "outputs": [
        {
          "output_type": "execute_result",
          "data": {
            "text/plain": [
              "Text(0, 0.5, 'Detail Views')"
            ]
          },
          "metadata": {
            "tags": []
          },
          "execution_count": 279
        },
        {
          "output_type": "display_data",
          "data": {
            "image/png": "[encoded data removed]",
            "text/plain": [
              "<Figure size 576x504 with 1 Axes>"
            ]
          },
          "metadata": {
            "tags": []
          }
        }
      ]
    },
    {
      "cell_type": "code",
      "metadata": {
        "colab": {
          "base_uri": "https://localhost:8080/",
          "height": 465
        },
        "id": "1gl0wTv6u6zR",
        "outputId": "3f94c9fb-1ec7-4c04-8d9b-b43f7b5a16f8"
      },
      "source": [
        "plt.figure(figsize=(8, 7))\r\n",
        "sns.scatterplot(data=data, x=\"ctr\", y=\"detail_views\")\r\n",
        "# Set x-axis label\r\n",
        "plt.xlabel('Ctr')\r\n",
        "# Set y-axis label\r\n",
        "plt.ylabel('Detail Views')"
      ],
      "execution_count": 280,
      "outputs": [
        {
          "output_type": "execute_result",
          "data": {
            "text/plain": [
              "Text(0, 0.5, 'Detail Views')"
            ]
          },
          "metadata": {
            "tags": []
          },
          "execution_count": 280
        },
        {
          "output_type": "display_data",
          "data": {
            "image/png": "[encoded data removed]",
            "text/plain": [
              "<Figure size 576x504 with 1 Axes>"
            ]
          },
          "metadata": {
            "tags": []
          }
        }
      ]
    }
  ]
}